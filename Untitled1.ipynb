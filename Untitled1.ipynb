{
  "nbformat": 4,
  "nbformat_minor": 0,
  "metadata": {
    "colab": {
      "name": "Untitled1.ipynb",
      "provenance": [],
      "authorship_tag": "ABX9TyN/eZ7zypQ78noCU6Im/09d"
    },
    "kernelspec": {
      "name": "python3",
      "display_name": "Python 3"
    },
    "language_info": {
      "name": "python"
    }
  },
  "cells": [
    {
      "cell_type": "code",
      "metadata": {
        "id": "5T9AlOJpgn2P"
      },
      "source": [
        "import random\n",
        "number = random.randint(1,10)\n",
        "myName = input(\"hello! what is your name?\")\n",
        "print(\"Well \" + myName + \" I am thinking of a number between 1 and 10.\")\n",
        "guess =int(input(\"Take a guess:\"))\n",
        "if guess == number:\n",
        "    print(\"Good job,\" + myName + \"! You guessed my number\")\n",
        "else:\n",
        "    print(f\"Wrong, better luck next time, my guess number is {number}\")"
      ],
      "execution_count": null,
      "outputs": []
    }
  ]
}